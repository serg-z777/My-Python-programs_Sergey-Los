{
  "cells": [
    {
      "cell_type": "markdown",
      "metadata": {
        "id": "view-in-github",
        "colab_type": "text"
      },
      "source": [
        "<a href=\"https://colab.research.google.com/github/serg-z777/My-Python-programs_Sergey-Los/blob/main/Assignm_1_Task_2_count_digits_Serg_Los.ipynb\" target=\"_parent\"><img src=\"https://colab.research.google.com/assets/colab-badge.svg\" alt=\"Open In Colab\"/></a>"
      ]
    },
    {
      "cell_type": "code",
      "execution_count": null,
      "id": "7ea35de2-949f-4c12-bf0a-64ad94633c96",
      "metadata": {
        "id": "7ea35de2-949f-4c12-bf0a-64ad94633c96"
      },
      "outputs": [],
      "source": [
        "# Counting digits of the entered integer number (positive or negative) by means of the loop function 'while'"
      ]
    },
    {
      "cell_type": "code",
      "execution_count": null,
      "id": "c198eec3-1b8b-466c-93f3-86921b05be97",
      "metadata": {
        "id": "c198eec3-1b8b-466c-93f3-86921b05be97",
        "outputId": "c1232e89-422e-4122-f661-446a2c75f810"
      },
      "outputs": [
        {
          "name": "stdin",
          "output_type": "stream",
          "text": [
            "Enter the integer number:  -10001\n"
          ]
        }
      ],
      "source": [
        "number_int = int(input('Enter the integer number: '))"
      ]
    },
    {
      "cell_type": "code",
      "execution_count": null,
      "id": "1ea81bc2-33f6-4945-9c03-7d3dea7d6f55",
      "metadata": {
        "id": "1ea81bc2-33f6-4945-9c03-7d3dea7d6f55"
      },
      "outputs": [],
      "source": [
        "if number_int < 0:\n",
        "    number_int = number_int * (-1)"
      ]
    },
    {
      "cell_type": "code",
      "execution_count": null,
      "id": "dc9b0302-b826-4bf1-9c5c-8a3238833659",
      "metadata": {
        "id": "dc9b0302-b826-4bf1-9c5c-8a3238833659"
      },
      "outputs": [],
      "source": [
        "digits_count = 0"
      ]
    },
    {
      "cell_type": "code",
      "execution_count": null,
      "id": "b64da098-53ac-461d-8c54-cb620d75cb59",
      "metadata": {
        "id": "b64da098-53ac-461d-8c54-cb620d75cb59"
      },
      "outputs": [],
      "source": [
        "while number_int >= 0:\n",
        "    shortened_number = number_int // 10\n",
        "    number_int = shortened_number\n",
        "    digits_count += 1\n",
        "    if number_int == 0:\n",
        "        break"
      ]
    },
    {
      "cell_type": "code",
      "execution_count": null,
      "id": "6f0ee1ae-9d16-44c0-8521-b34905efd2e6",
      "metadata": {
        "id": "6f0ee1ae-9d16-44c0-8521-b34905efd2e6",
        "outputId": "6858a592-0652-4717-8f5c-6381a465d928"
      },
      "outputs": [
        {
          "name": "stdout",
          "output_type": "stream",
          "text": [
            "Your entered number consists of 5 digits\n"
          ]
        }
      ],
      "source": [
        "print('Your entered number consists of', digits_count, 'digits')"
      ]
    },
    {
      "cell_type": "code",
      "execution_count": null,
      "id": "35128af5-c99c-4e6f-88ac-67595fc96259",
      "metadata": {
        "id": "35128af5-c99c-4e6f-88ac-67595fc96259"
      },
      "outputs": [],
      "source": [
        "# End of program"
      ]
    }
  ],
  "metadata": {
    "kernelspec": {
      "display_name": "Python 3 (ipykernel)",
      "language": "python",
      "name": "python3"
    },
    "language_info": {
      "codemirror_mode": {
        "name": "ipython",
        "version": 3
      },
      "file_extension": ".py",
      "mimetype": "text/x-python",
      "name": "python",
      "nbconvert_exporter": "python",
      "pygments_lexer": "ipython3",
      "version": "3.12.7"
    },
    "colab": {
      "provenance": [],
      "toc_visible": true,
      "include_colab_link": true
    }
  },
  "nbformat": 4,
  "nbformat_minor": 5
}