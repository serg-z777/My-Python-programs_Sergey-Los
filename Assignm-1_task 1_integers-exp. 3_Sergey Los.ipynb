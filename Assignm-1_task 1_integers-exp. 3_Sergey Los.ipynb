{
 "cells": [
  {
   "cell_type": "code",
   "execution_count": 11,
   "id": "ba17c737-7b9a-49b9-947f-83afacf2318c",
   "metadata": {},
   "outputs": [],
   "source": [
    "# Возведения целых чисел от 1 до N в 3-ю степень с использованием цикла while"
   ]
  },
  {
   "cell_type": "code",
   "execution_count": 12,
   "id": "b5c235e3-5279-46ed-99c5-412e7c4c3376",
   "metadata": {},
   "outputs": [
    {
     "name": "stdin",
     "output_type": "stream",
     "text": [
      "Если хотите последовательно возвести в 3-ю степень целые числа от 1 до N, введите N:  5\n"
     ]
    }
   ],
   "source": [
    "num_int_max = int(input('Если хотите последовательно возвести в 3-ю степень целые числа от 1 до N, введите N: '))"
   ]
  },
  {
   "cell_type": "code",
   "execution_count": 13,
   "id": "5e3a01b3-afa2-4373-87a8-43ef0ba5fc69",
   "metadata": {},
   "outputs": [],
   "source": [
    "num_int = 1"
   ]
  },
  {
   "cell_type": "code",
   "execution_count": 14,
   "id": "0b4fffea-0341-4177-a522-0dfb69f2cc82",
   "metadata": {},
   "outputs": [
    {
     "name": "stdout",
     "output_type": "stream",
     "text": [
      "1 ** 3 = 1\n",
      "2 ** 3 = 8\n",
      "3 ** 3 = 27\n",
      "4 ** 3 = 64\n",
      "5 ** 3 = 125\n"
     ]
    }
   ],
   "source": [
    "while num_int <= num_int_max:\n",
    "    print(num_int, '** 3 =', num_int ** 3)\n",
    "    num_int +=1"
   ]
  },
  {
   "cell_type": "code",
   "execution_count": 15,
   "id": "016ef4f1-bbd4-499f-bbb5-f229dd585f24",
   "metadata": {},
   "outputs": [],
   "source": [
    "# Если надо оперировать с числами с плавающей запятой, то вместо оператора 'int' надо использовать 'float' и ..."
   ]
  },
  {
   "cell_type": "code",
   "execution_count": null,
   "id": "3c3fc915-aa20-4475-bb4b-529ed420e5bc",
   "metadata": {},
   "outputs": [],
   "source": [
    "# ... соответственно изменить название переменных num_int_max и num_int и текст инструкции ввода для пользователя "
   ]
  }
 ],
 "metadata": {
  "kernelspec": {
   "display_name": "Python 3 (ipykernel)",
   "language": "python",
   "name": "python3"
  },
  "language_info": {
   "codemirror_mode": {
    "name": "ipython",
    "version": 3
   },
   "file_extension": ".py",
   "mimetype": "text/x-python",
   "name": "python",
   "nbconvert_exporter": "python",
   "pygments_lexer": "ipython3",
   "version": "3.12.4"
  }
 },
 "nbformat": 4,
 "nbformat_minor": 5
}
