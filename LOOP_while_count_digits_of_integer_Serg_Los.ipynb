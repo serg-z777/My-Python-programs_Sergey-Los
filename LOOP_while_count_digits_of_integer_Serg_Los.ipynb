{
  "cells": [
    {
      "cell_type": "markdown",
      "metadata": {
        "id": "view-in-github",
        "colab_type": "text"
      },
      "source": [
        "<a href=\"https://colab.research.google.com/github/serg-z777/My-Python-programs_Sergey-Los/blob/main/LOOP_while_count_digits_of_integer_Serg_Los.ipynb\" target=\"_parent\"><img src=\"https://colab.research.google.com/assets/colab-badge.svg\" alt=\"Open In Colab\"/></a>"
      ]
    },
    {
      "cell_type": "code",
      "execution_count": 15,
      "id": "7ea35de2-949f-4c12-bf0a-64ad94633c96",
      "metadata": {
        "id": "7ea35de2-949f-4c12-bf0a-64ad94633c96"
      },
      "outputs": [],
      "source": [
        "# Counting digits of the entered integer number (positive or negative) by means of the loop function 'while'"
      ]
    },
    {
      "cell_type": "code",
      "execution_count": 16,
      "id": "c198eec3-1b8b-466c-93f3-86921b05be97",
      "metadata": {
        "colab": {
          "base_uri": "https://localhost:8080/"
        },
        "id": "c198eec3-1b8b-466c-93f3-86921b05be97",
        "outputId": "244eb0ba-b338-45bf-c07a-c58e5815359e"
      },
      "outputs": [
        {
          "name": "stdout",
          "output_type": "stream",
          "text": [
            "Enter the integer number: -1\n"
          ]
        }
      ],
      "source": [
        "number_int = int(input('Enter the integer number: '))"
      ]
    },
    {
      "cell_type": "code",
      "execution_count": 17,
      "id": "1ea81bc2-33f6-4945-9c03-7d3dea7d6f55",
      "metadata": {
        "id": "1ea81bc2-33f6-4945-9c03-7d3dea7d6f55"
      },
      "outputs": [],
      "source": [
        "if number_int < 0:\n",
        "    number_int = number_int * (-1)"
      ]
    },
    {
      "cell_type": "code",
      "execution_count": 18,
      "id": "dc9b0302-b826-4bf1-9c5c-8a3238833659",
      "metadata": {
        "id": "dc9b0302-b826-4bf1-9c5c-8a3238833659"
      },
      "outputs": [],
      "source": [
        "digits_count = 0"
      ]
    },
    {
      "cell_type": "code",
      "execution_count": 19,
      "id": "b64da098-53ac-461d-8c54-cb620d75cb59",
      "metadata": {
        "id": "b64da098-53ac-461d-8c54-cb620d75cb59"
      },
      "outputs": [],
      "source": [
        "while number_int >= 0:\n",
        "    shortened_number = number_int // 10\n",
        "    number_int = shortened_number\n",
        "    digits_count += 1\n",
        "    if number_int == 0:\n",
        "        break"
      ]
    },
    {
      "cell_type": "code",
      "execution_count": 20,
      "id": "6f0ee1ae-9d16-44c0-8521-b34905efd2e6",
      "metadata": {
        "colab": {
          "base_uri": "https://localhost:8080/"
        },
        "id": "6f0ee1ae-9d16-44c0-8521-b34905efd2e6",
        "outputId": "7e407d43-b1ec-463a-8b6b-83b027f3e554"
      },
      "outputs": [
        {
          "output_type": "stream",
          "name": "stdout",
          "text": [
            "Your entered number consists of 1 digits\n"
          ]
        }
      ],
      "source": [
        "print('Your entered number consists of', digits_count, 'digits')"
      ]
    },
    {
      "cell_type": "code",
      "execution_count": 21,
      "id": "35128af5-c99c-4e6f-88ac-67595fc96259",
      "metadata": {
        "id": "35128af5-c99c-4e6f-88ac-67595fc96259"
      },
      "outputs": [],
      "source": [
        "# End of program"
      ]
    }
  ],
  "metadata": {
    "kernelspec": {
      "display_name": "Python 3 (ipykernel)",
      "language": "python",
      "name": "python3"
    },
    "language_info": {
      "codemirror_mode": {
        "name": "ipython",
        "version": 3
      },
      "file_extension": ".py",
      "mimetype": "text/x-python",
      "name": "python",
      "nbconvert_exporter": "python",
      "pygments_lexer": "ipython3",
      "version": "3.12.7"
    },
    "colab": {
      "provenance": [],
      "include_colab_link": true
    }
  },
  "nbformat": 4,
  "nbformat_minor": 5
}