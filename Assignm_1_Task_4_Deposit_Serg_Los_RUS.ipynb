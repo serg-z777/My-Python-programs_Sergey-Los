{
  "cells": [
    {
      "cell_type": "markdown",
      "metadata": {
        "id": "view-in-github",
        "colab_type": "text"
      },
      "source": [
        "<a href=\"https://colab.research.google.com/github/serg-z777/My-Python-programs_Sergey-Los/blob/main/Assignm_1_Task_4_Deposit_Serg_Los_RUS.ipynb\" target=\"_parent\"><img src=\"https://colab.research.google.com/assets/colab-badge.svg\" alt=\"Open In Colab\"/></a>"
      ]
    },
    {
      "cell_type": "code",
      "execution_count": 15,
      "id": "f2036946-cecc-43c6-9e77-a68b3719125a",
      "metadata": {
        "id": "f2036946-cecc-43c6-9e77-a68b3719125a"
      },
      "outputs": [],
      "source": [
        "# Вычислить, сколько лет надо держать вклад в банке, чтобы получить как минимум ожидаемую сумму"
      ]
    },
    {
      "cell_type": "code",
      "execution_count": 16,
      "id": "7a6509ca-289f-49a5-9092-2e2da8662241",
      "metadata": {
        "id": "7a6509ca-289f-49a5-9092-2e2da8662241",
        "outputId": "4f5d48c5-0f64-4688-a5d3-96d719e0a099",
        "colab": {
          "base_uri": "https://localhost:8080/"
        }
      },
      "outputs": [
        {
          "name": "stdout",
          "output_type": "stream",
          "text": [
            "Введите начальную сумму вклада: 100\n"
          ]
        }
      ],
      "source": [
        "x_deposit = int(input('Введите начальную сумму вклада: '))"
      ]
    },
    {
      "cell_type": "code",
      "execution_count": 17,
      "id": "cb63a6f0-770e-46e8-a268-3295d3c9fab4",
      "metadata": {
        "id": "cb63a6f0-770e-46e8-a268-3295d3c9fab4",
        "outputId": "89de7f32-aa0a-4305-9d1f-2b2fef1976a8",
        "colab": {
          "base_uri": "https://localhost:8080/"
        }
      },
      "outputs": [
        {
          "name": "stdout",
          "output_type": "stream",
          "text": [
            "Введите величину начисляемого в конце каждого года процента (%), десятичная часть отделяется точкой (НЕ запятой!): 9.5\n"
          ]
        }
      ],
      "source": [
        "interest_rate = float(input('Введите величину начисляемого в конце каждого года процента (%), десятичная часть отделяется точкой (НЕ запятой!): '))"
      ]
    },
    {
      "cell_type": "code",
      "execution_count": 18,
      "id": "bcbc17f8-e5ad-46ab-89ee-4cb5ca9fe5ad",
      "metadata": {
        "id": "bcbc17f8-e5ad-46ab-89ee-4cb5ca9fe5ad",
        "outputId": "b35b7dbb-1bc8-40ed-f677-ffe3f1308a08",
        "colab": {
          "base_uri": "https://localhost:8080/"
        }
      },
      "outputs": [
        {
          "name": "stdout",
          "output_type": "stream",
          "text": [
            "Введите минимальную сумму накоплений, которую Вы хотите получить: 250\n"
          ]
        }
      ],
      "source": [
        "y_exp_amount = int(input('Введите минимальную сумму накоплений, которую Вы хотите получить: '))"
      ]
    },
    {
      "cell_type": "code",
      "execution_count": 19,
      "id": "a26c2e10-03f8-4190-a341-6eca6af3dcae",
      "metadata": {
        "id": "a26c2e10-03f8-4190-a341-6eca6af3dcae"
      },
      "outputs": [],
      "source": [
        "years_count = 0"
      ]
    },
    {
      "cell_type": "code",
      "execution_count": 20,
      "id": "e170ecf4-6dab-432f-925e-ff080b921e7e",
      "metadata": {
        "id": "e170ecf4-6dab-432f-925e-ff080b921e7e",
        "outputId": "14a56784-b006-433e-d56d-4e0001adb0d0",
        "colab": {
          "base_uri": "https://localhost:8080/"
        }
      },
      "outputs": [
        {
          "output_type": "stream",
          "name": "stdout",
          "text": [
            "1 год : 100 + 9.5 % = 109.0\n",
            "2 год : 109.0 + 9.5 % = 119.0\n",
            "3 год : 119.0 + 9.5 % = 130.0\n",
            "4 год : 130.0 + 9.5 % = 142.0\n",
            "5 год : 142.0 + 9.5 % = 155.0\n",
            "6 год : 155.0 + 9.5 % = 169.0\n",
            "7 год : 169.0 + 9.5 % = 185.0\n",
            "8 год : 185.0 + 9.5 % = 202.0\n",
            "9 год : 202.0 + 9.5 % = 221.0\n",
            "10 год : 221.0 + 9.5 % = 241.0\n",
            "11 год : 241.0 + 9.5 % = 263.0\n"
          ]
        }
      ],
      "source": [
        "while x_deposit < y_exp_amount:\n",
        "    print(years_count + 1, 'год :', x_deposit, '+', interest_rate, '% =', (x_deposit * (1 + interest_rate/100)) // 1)\n",
        "    x_deposit = (x_deposit * (1 + interest_rate/100)) // 1\n",
        "    years_count += 1"
      ]
    },
    {
      "cell_type": "code",
      "execution_count": 21,
      "id": "2aad0205-8bfc-442f-80b4-b70ec92a36bb",
      "metadata": {
        "id": "2aad0205-8bfc-442f-80b4-b70ec92a36bb",
        "outputId": "6e1d2e8f-7231-449c-8a72-096e4e88fa4f",
        "colab": {
          "base_uri": "https://localhost:8080/"
        }
      },
      "outputs": [
        {
          "output_type": "stream",
          "name": "stdout",
          "text": [
            "Вы получите как минимум Вашу ожидаемую сумму накоплений в конце 11 лет (года).\n"
          ]
        }
      ],
      "source": [
        "print('Вы получите сумму накоплений, которая составляет как минимум Вашу ожидаемую сумму, в конце', years_count, 'лет (года).')"
      ]
    }
  ],
  "metadata": {
    "kernelspec": {
      "display_name": "Python 3 (ipykernel)",
      "language": "python",
      "name": "python3"
    },
    "language_info": {
      "codemirror_mode": {
        "name": "ipython",
        "version": 3
      },
      "file_extension": ".py",
      "mimetype": "text/x-python",
      "name": "python",
      "nbconvert_exporter": "python",
      "pygments_lexer": "ipython3",
      "version": "3.12.4"
    },
    "colab": {
      "provenance": [],
      "toc_visible": true,
      "include_colab_link": true
    }
  },
  "nbformat": 4,
  "nbformat_minor": 5
}