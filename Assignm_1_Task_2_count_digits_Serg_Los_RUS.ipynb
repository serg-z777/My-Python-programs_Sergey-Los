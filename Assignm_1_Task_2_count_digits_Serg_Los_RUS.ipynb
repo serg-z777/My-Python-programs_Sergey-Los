{
  "cells": [
    {
      "cell_type": "markdown",
      "metadata": {
        "id": "view-in-github",
        "colab_type": "text"
      },
      "source": [
        "<a href=\"https://colab.research.google.com/github/serg-z777/My-Python-programs_Sergey-Los/blob/main/Assignm_1_Task_2_count_digits_Serg_Los_RUS.ipynb\" target=\"_parent\"><img src=\"https://colab.research.google.com/assets/colab-badge.svg\" alt=\"Open In Colab\"/></a>"
      ]
    },
    {
      "cell_type": "code",
      "execution_count": 22,
      "id": "7ea35de2-949f-4c12-bf0a-64ad94633c96",
      "metadata": {
        "id": "7ea35de2-949f-4c12-bf0a-64ad94633c96"
      },
      "outputs": [],
      "source": [
        "# Программа расчитывает количество цифр введённого целого числа (вкл. отрицат.), использ. опер. while"
      ]
    },
    {
      "cell_type": "code",
      "execution_count": 23,
      "id": "c198eec3-1b8b-466c-93f3-86921b05be97",
      "metadata": {
        "id": "c198eec3-1b8b-466c-93f3-86921b05be97",
        "outputId": "b0428156-8b61-405a-d40e-920e70632c4b",
        "colab": {
          "base_uri": "https://localhost:8080/"
        }
      },
      "outputs": [
        {
          "name": "stdout",
          "output_type": "stream",
          "text": [
            "Введите целое число: -55555\n"
          ]
        }
      ],
      "source": [
        "number_int = int(input('Введите целое число: '))"
      ]
    },
    {
      "cell_type": "code",
      "execution_count": 24,
      "id": "1ea81bc2-33f6-4945-9c03-7d3dea7d6f55",
      "metadata": {
        "id": "1ea81bc2-33f6-4945-9c03-7d3dea7d6f55"
      },
      "outputs": [],
      "source": [
        "if number_int < 0:\n",
        "    number_int = number_int * (-1)"
      ]
    },
    {
      "cell_type": "code",
      "execution_count": 25,
      "id": "dc9b0302-b826-4bf1-9c5c-8a3238833659",
      "metadata": {
        "id": "dc9b0302-b826-4bf1-9c5c-8a3238833659"
      },
      "outputs": [],
      "source": [
        "digits_count = 0"
      ]
    },
    {
      "cell_type": "code",
      "execution_count": 26,
      "id": "b64da098-53ac-461d-8c54-cb620d75cb59",
      "metadata": {
        "id": "b64da098-53ac-461d-8c54-cb620d75cb59"
      },
      "outputs": [],
      "source": [
        "while number_int >= 0:\n",
        "    shortened_number = number_int // 10\n",
        "    number_int = shortened_number\n",
        "    digits_count += 1\n",
        "    if number_int == 0:\n",
        "        break"
      ]
    },
    {
      "cell_type": "code",
      "execution_count": 27,
      "id": "6f0ee1ae-9d16-44c0-8521-b34905efd2e6",
      "metadata": {
        "id": "6f0ee1ae-9d16-44c0-8521-b34905efd2e6",
        "outputId": "e825aba1-3c62-40d0-d07e-65810912aa7a",
        "colab": {
          "base_uri": "https://localhost:8080/"
        }
      },
      "outputs": [
        {
          "output_type": "stream",
          "name": "stdout",
          "text": [
            "Количество цифр в числе: 5\n"
          ]
        }
      ],
      "source": [
        "print('Количество цифр в числе:', digits_count)"
      ]
    },
    {
      "cell_type": "code",
      "execution_count": 28,
      "id": "35128af5-c99c-4e6f-88ac-67595fc96259",
      "metadata": {
        "id": "35128af5-c99c-4e6f-88ac-67595fc96259"
      },
      "outputs": [],
      "source": [
        "# End of program"
      ]
    }
  ],
  "metadata": {
    "kernelspec": {
      "display_name": "Python 3 (ipykernel)",
      "language": "python",
      "name": "python3"
    },
    "language_info": {
      "codemirror_mode": {
        "name": "ipython",
        "version": 3
      },
      "file_extension": ".py",
      "mimetype": "text/x-python",
      "name": "python",
      "nbconvert_exporter": "python",
      "pygments_lexer": "ipython3",
      "version": "3.12.7"
    },
    "colab": {
      "provenance": [],
      "toc_visible": true,
      "include_colab_link": true
    }
  },
  "nbformat": 4,
  "nbformat_minor": 5
}